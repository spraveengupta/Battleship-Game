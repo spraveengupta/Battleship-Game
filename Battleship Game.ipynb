{
 "cells": [
  {
   "cell_type": "code",
   "execution_count": 1,
   "metadata": {
    "collapsed": false
   },
   "outputs": [
    {
     "name": "stdout",
     "output_type": "stream",
     "text": [
      "Let's play Battleship!\n",
      "O O O O O\n",
      "O O O O O\n",
      "O O O O O\n",
      "O O O O O\n",
      "O O O O O\n",
      "1\n",
      "1\n",
      "Guess Row:1\n",
      "Guess Col:1\n",
      "Congratulations! You sunk my battleship!\n"
     ]
    }
   ],
   "source": [
    "from random import randint\n",
    "\n",
    "board = []\n",
    "\n",
    "for x in range(5):\n",
    "    board.append([\"O\"] * 5)\n",
    "\n",
    "def print_board(board):\n",
    "    for row in board:\n",
    "        print \" \".join(row)\n",
    "\n",
    "print \"Let's play Battleship!\"\n",
    "print_board(board)\n",
    "\n",
    "def random_row(board):\n",
    "    return randint(0, len(board) - 1)\n",
    "\n",
    "def random_col(board):\n",
    "    return randint(0, len(board[0]) - 1)\n",
    "\n",
    "ship_row = random_row(board)\n",
    "ship_col = random_col(board)\n",
    "print ship_row\n",
    "print ship_col\n",
    "\n",
    "# Everything from here on should go in your for loop!\n",
    "# Be sure to indent four spaces!\n",
    "for turn in range(4):\n",
    "    guess_row = int(raw_input(\"Guess Row:\"))\n",
    "    guess_col = int(raw_input(\"Guess Col:\"))\n",
    "\n",
    "    if guess_row == ship_row and guess_col == ship_col:\n",
    "        print \"Congratulations! You sunk my battleship!\"\n",
    "        break\n",
    "    else:\n",
    "        if (guess_row < 0 or guess_row > 4) or (guess_col < 0 or guess_col > 4):\n",
    "            print \"Oops, that's not even in the ocean.\"\n",
    "        elif(board[guess_row][guess_col] == \"X\"):\n",
    "            print \"You guessed that one already.\"\n",
    "        else:\n",
    "            print \"You missed my battleship!\"\n",
    "            board[guess_row][guess_col] = \"X\"\n",
    "        if turn==3:\n",
    "            print \"Game Over\"\n",
    "    # Print (turn + 1) here!\n",
    "        else:\n",
    "            print \"turn :\", turn+1\n",
    "            print_board(board)"
   ]
  }
 ],
 "metadata": {
  "kernelspec": {
   "display_name": "Python 2",
   "language": "python",
   "name": "python2"
  },
  "language_info": {
   "codemirror_mode": {
    "name": "ipython",
    "version": 2
   },
   "file_extension": ".py",
   "mimetype": "text/x-python",
   "name": "python",
   "nbconvert_exporter": "python",
   "pygments_lexer": "ipython2",
   "version": "2.7.11"
  }
 },
 "nbformat": 4,
 "nbformat_minor": 0
}
